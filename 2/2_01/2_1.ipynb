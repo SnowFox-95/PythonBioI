{
 "cells": [
  {
   "cell_type": "markdown",
   "source": [
    "#4\n",
    "Какое значение будет у переменной i после выполнения фрагмента программы?\n",
    "\n",
    "i = 0\n",
    "while i <= 10:\n",
    "    i = i + 1\n",
    "    if i > 7:\n",
    "        i = i + 2"
   ],
   "metadata": {
    "collapsed": false,
    "pycharm": {
     "name": "#%% md\n"
    }
   }
  },
  {
   "cell_type": "code",
   "execution_count": 16,
   "outputs": [
    {
     "name": "stdout",
     "output_type": "stream",
     "text": [
      "13\n"
     ]
    }
   ],
   "source": [
    "i = 0\n",
    "while i <= 10:\n",
    "    i = i + 1\n",
    "    if i > 7:\n",
    "        i = i + 2\n",
    "print(i)\n",
    "#CorrectAnswers - 13"
   ],
   "metadata": {
    "collapsed": false,
    "pycharm": {
     "name": "#%%\n"
    }
   }
  },
  {
   "cell_type": "markdown",
   "source": [
    "#5\n",
    "Сколько итераций цикла будет выполнено в этом фрагменте программы?\n",
    "\n",
    "i = 0\n",
    "while i <= 10:\n",
    "    i = i + 1\n",
    "    if i > 7:\n",
    "        i = i + 2"
   ],
   "metadata": {
    "collapsed": false,
    "pycharm": {
     "name": "#%% md\n"
    }
   }
  },
  {
   "cell_type": "code",
   "execution_count": 17,
   "outputs": [
    {
     "name": "stdout",
     "output_type": "stream",
     "text": [
      "9\n"
     ]
    }
   ],
   "source": [
    "i = 0\n",
    "с=0 # подсчет циклов\n",
    "while i <= 10:\n",
    "    i = i + 1\n",
    "    с+=1\n",
    "    if i > 7:\n",
    "        i = i + 2\n",
    "\n",
    "print(с)\n",
    "#CorrectAnswers - 9"
   ],
   "metadata": {
    "collapsed": false,
    "pycharm": {
     "name": "#%%\n"
    }
   }
  },
  {
   "cell_type": "markdown",
   "source": [
    "#9\n",
    "Сколько всего знаков * будет выведено после исполнения фрагмента программы:\n",
    "\n",
    "i = 0\n",
    "while i < 5:\n",
    "    print('*')\n",
    "    if i % 2 == 0:\n",
    "        print('**')\n",
    "    if i > 2:\n",
    "        print('***')\n",
    "    i = i + 1"
   ],
   "metadata": {
    "collapsed": false,
    "pycharm": {
     "name": "#%% md\n"
    }
   }
  },
  {
   "cell_type": "code",
   "execution_count": 18,
   "outputs": [
    {
     "name": "stdout",
     "output_type": "stream",
     "text": [
      "*\n",
      "**\n",
      "*\n",
      "*\n",
      "**\n",
      "*\n",
      "***\n",
      "*\n",
      "**\n",
      "***\n",
      "\n",
      "17\n"
     ]
    }
   ],
   "source": [
    "i = 0\n",
    "c = 0 # переменная для подсчета \"*\" в цикле\n",
    "while i < 5:\n",
    "    print('*')\n",
    "    count += 1\n",
    "    if i % 2 == 0:\n",
    "        print('**')\n",
    "        count += 2\n",
    "    if i > 2:\n",
    "        print('***')\n",
    "        count += 3\n",
    "    i = i + 1\n",
    "\n",
    "print('\\n'+str(count))\n",
    "#CorrectAnswers - 17"
   ],
   "metadata": {
    "collapsed": false,
    "pycharm": {
     "name": "#%%\n"
    }
   }
  }
 ],
 "metadata": {
  "kernelspec": {
   "display_name": "Python 3",
   "language": "python",
   "name": "python3"
  },
  "language_info": {
   "codemirror_mode": {
    "name": "ipython",
    "version": 2
   },
   "file_extension": ".py",
   "mimetype": "text/x-python",
   "name": "python",
   "nbconvert_exporter": "python",
   "pygments_lexer": "ipython2",
   "version": "2.7.6"
  }
 },
 "nbformat": 4,
 "nbformat_minor": 0
}