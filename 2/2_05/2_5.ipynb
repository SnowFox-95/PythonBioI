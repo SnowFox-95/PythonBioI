{
 "cells": [
  {
   "cell_type": "markdown",
   "source": [
    "#3\n",
    "Сколько элементов будет содержать список students после следующих операций?\n",
    "\n",
    "students = ['Ivan', 'Masha', 'Sasha']\n",
    "students += ['Olga']\n",
    "students += 'Olga'"
   ],
   "metadata": {
    "collapsed": false,
    "pycharm": {
     "name": "#%% md\n"
    }
   }
  },
  {
   "cell_type": "code",
   "execution_count": 24,
   "outputs": [
    {
     "name": "stdout",
     "output_type": "stream",
     "text": [
      "8\n"
     ]
    }
   ],
   "source": [
    "students = ['Ivan', 'Masha', 'Sasha']\n",
    "students += ['Olga']\n",
    "students += 'Olga'\n",
    "\n",
    "print(len(students)) #CorrectAnswer - 8"
   ],
   "metadata": {
    "collapsed": false,
    "pycharm": {
     "name": "#%%\n"
    }
   }
  },
  {
   "cell_type": "markdown",
   "source": [
    "#7\n",
    "Имеется программа, код которой указан ниже.\n",
    "Укажите, какие значения будут содержать списки в помеченных участках:\n",
    "\n",
    "a = [1, 2, 3]\n",
    "b = a\n",
    "\"значения списка b?\"\n",
    "\n",
    "a[1] = 10\n",
    "\"значения списка b?\"\n",
    "\n",
    "b[0] = 20\n",
    "\"значения списка a?\"\n",
    "\n",
    "a = [5, 6]\n",
    "\"значения списка b?\"\n",
    "\n",
    "Запишите значения списков в одну строку, разделяя списки точкой с запятой, а элементы внутри списка — пробелом, например:\n",
    "1 1 1; 2 2 2; 3 3 3; 4 4 4"
   ],
   "metadata": {
    "collapsed": false,
    "pycharm": {
     "name": "#%% md\n"
    }
   }
  },
  {
   "cell_type": "code",
   "execution_count": 25,
   "outputs": [
    {
     "name": "stdout",
     "output_type": "stream",
     "text": [
      "1 2 3; 1 10 3; 20 10 3; 20 10 3\n"
     ]
    }
   ],
   "source": [
    "a = [1, 2, 3]\n",
    "b = a\n",
    "b1 = str(b[0])+' ' + str(b[1])+' ' + str(b[2]) # значения списка b?\n",
    "a[1] = 10\n",
    "b2 = str(b[0])+' ' + str(b[1])+' ' + str(b[2])# значения списка b?\n",
    "b[0] = 20\n",
    "a1 = str(a[0])+' ' + str(a[1])+' ' + str(a[2])# значения списка a?\n",
    "a = [5, 6]\n",
    "b3 = str(b[0])+' ' + str(b[1])+' ' + str(b[2]) # значения списка b?\n",
    "print(b1,b2,a1,b3, sep='; ')"
   ],
   "metadata": {
    "collapsed": false,
    "pycharm": {
     "name": "#%%\n"
    }
   }
  }
 ],
 "metadata": {
  "kernelspec": {
   "display_name": "Python 3",
   "language": "python",
   "name": "python3"
  },
  "language_info": {
   "codemirror_mode": {
    "name": "ipython",
    "version": 2
   },
   "file_extension": ".py",
   "mimetype": "text/x-python",
   "name": "python",
   "nbconvert_exporter": "python",
   "pygments_lexer": "ipython2",
   "version": "2.7.6"
  }
 },
 "nbformat": 4,
 "nbformat_minor": 0
}