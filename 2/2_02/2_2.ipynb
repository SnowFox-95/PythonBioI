{
 "cells": [
  {
   "cell_type": "markdown",
   "source": [
    "#2\n",
    "Определите, какое значение будет иметь переменная i после выполнения следующего фрагмента программы:\n",
    "\n",
    "i = 0\n",
    "s = 0\n",
    "while i < 10:\n",
    "    i = i + 1\n",
    "    s = s + i\n",
    "    if s > 15:\n",
    "        break\n",
    "    i = i + 1"
   ],
   "metadata": {
    "collapsed": false,
    "pycharm": {
     "name": "#%% md\n"
    }
   }
  },
  {
   "cell_type": "code",
   "execution_count": 2,
   "metadata": {
    "collapsed": true,
    "pycharm": {
     "name": "#%%\n"
    }
   },
   "outputs": [
    {
     "name": "stdout",
     "output_type": "stream",
     "text": [
      "7\n"
     ]
    }
   ],
   "source": [
    "i = 0\n",
    "s = 0\n",
    "while i < 10:\n",
    "    i = i + 1\n",
    "    s = s + i\n",
    "    if s > 15:\n",
    "        break\n",
    "    i = i + 1\n",
    "\n",
    "print(i) #CorrectAnswers - 7"
   ]
  },
  {
   "cell_type": "markdown",
   "source": [
    "#3\n",
    "Определите, какое значение будет иметь переменная i после выполнения следующего фрагмента программы:\n",
    "\n",
    "i = 0\n",
    "s = 0\n",
    "while i < 10:\n",
    "    i = i + 1\n",
    "    s = s + i\n",
    "    if s > 15:\n",
    "        continue\n",
    "    i = i + 1"
   ],
   "metadata": {
    "collapsed": false,
    "pycharm": {
     "name": "#%% md\n"
    }
   }
  },
  {
   "cell_type": "code",
   "execution_count": 3,
   "outputs": [
    {
     "name": "stdout",
     "output_type": "stream",
     "text": [
      "10\n"
     ]
    }
   ],
   "source": [
    "i = 0\n",
    "s = 0\n",
    "while i < 10:\n",
    "    i = i + 1\n",
    "    s = s + i\n",
    "    if s > 15:\n",
    "        continue\n",
    "    i = i + 1\n",
    "\n",
    "print(i) #CorrectAnswers - 10"
   ],
   "metadata": {
    "collapsed": false,
    "pycharm": {
     "name": "#%%\n"
    }
   }
  }
 ],
 "metadata": {
  "kernelspec": {
   "display_name": "Python 3",
   "language": "python",
   "name": "python3"
  },
  "language_info": {
   "codemirror_mode": {
    "name": "ipython",
    "version": 2
   },
   "file_extension": ".py",
   "mimetype": "text/x-python",
   "name": "python",
   "nbconvert_exporter": "python",
   "pygments_lexer": "ipython2",
   "version": "2.7.6"
  }
 },
 "nbformat": 4,
 "nbformat_minor": 0
}