{
 "cells": [
  {
   "cell_type": "markdown",
   "source": [
    "#5\n",
    "Есть строка s = \"abcdefghijk\".\n",
    "В поле ответа через пробел запишите строки (без кавычек), полученные в результате следующих операций:\n",
    "\n",
    "# s = 'abcdefghijk'\n",
    "s[3:6]\n",
    "s[:6]\n",
    "s[3:]\n",
    "s[::-1]\n",
    "s[-3:]\n",
    "s[:-6]\n",
    "s[-1:-10:-2]\n",
    "\n",
    "Попробуйте найти ответ к этой задаче, не используя интерпретатор Python. Если без интерпретатора решить не получается, разберитесь, почему выводятся именно такие строки в каждом из вариантов.\n",
    "\n",
    "Итоговый формат ответа должен выглядеть следующим образом:\n",
    "abcd efg hijklmnop qrst uvw xy z"
   ],
   "metadata": {
    "collapsed": false,
    "pycharm": {
     "name": "#%% md\n"
    }
   }
  },
  {
   "cell_type": "code",
   "execution_count": 1,
   "outputs": [
    {
     "name": "stdout",
     "output_type": "stream",
     "text": [
      "def abcdef defghijk kjihgfedcba ijk abcde kigec\n"
     ]
    }
   ],
   "source": [
    "s = 'abcdefghijk'\n",
    "print(s[3:6], s[:6],s[3:], s[::-1],s[-3:],s[:-6],s[-1:-10:-2])\n",
    "\n",
    "#Correct Answers - def abcdef defghijk kjihgfedcba ijk abcde kigec"
   ],
   "metadata": {
    "collapsed": false,
    "pycharm": {
     "name": "#%%\n"
    }
   }
  }
 ],
 "metadata": {
  "kernelspec": {
   "display_name": "Python 3",
   "language": "python",
   "name": "python3"
  },
  "language_info": {
   "codemirror_mode": {
    "name": "ipython",
    "version": 2
   },
   "file_extension": ".py",
   "mimetype": "text/x-python",
   "name": "python",
   "nbconvert_exporter": "python",
   "pygments_lexer": "ipython2",
   "version": "2.7.6"
  }
 },
 "nbformat": 4,
 "nbformat_minor": 0
}