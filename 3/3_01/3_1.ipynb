{
 "cells": [
  {
   "cell_type": "markdown",
   "source": [
    "#3\n",
    "Есть функция f, которая определена следующим образом:\n",
    "\n",
    "def f(n):\n",
    "    return n * 10 + 5\n",
    "\n",
    "Введите её в интерпретаторе и посчитайте, чему равно значение следующего выражения:\n",
    "\n",
    "f(f(f(10)))\n",
    "\n",
    "Разберитесь, почему получается именно такое значение."
   ],
   "metadata": {
    "collapsed": false,
    "pycharm": {
     "name": "#%% md\n"
    }
   }
  },
  {
   "cell_type": "code",
   "execution_count": 2,
   "metadata": {
    "collapsed": true,
    "pycharm": {
     "name": "#%%\n"
    }
   },
   "outputs": [
    {
     "name": "stdout",
     "output_type": "stream",
     "text": [
      "10555\n"
     ]
    }
   ],
   "source": [
    "def f(n):\n",
    "    return n * 10 + 5\n",
    "\n",
    "print(f(f(f(10)))) #CorrectAnswer - 10555"
   ]
  }
 ],
 "metadata": {
  "kernelspec": {
   "display_name": "Python 3",
   "language": "python",
   "name": "python3"
  },
  "language_info": {
   "codemirror_mode": {
    "name": "ipython",
    "version": 2
   },
   "file_extension": ".py",
   "mimetype": "text/x-python",
   "name": "python",
   "nbconvert_exporter": "python",
   "pygments_lexer": "ipython2",
   "version": "2.7.6"
  }
 },
 "nbformat": 4,
 "nbformat_minor": 0
}