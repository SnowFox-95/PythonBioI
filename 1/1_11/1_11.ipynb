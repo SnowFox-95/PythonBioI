{
 "cells": [
  {
   "cell_type": "markdown",
   "source": [
    "#2\n",
    "Отметьте выражения, значения которых равны True:"
   ],
   "metadata": {
    "collapsed": false,
    "pycharm": {
     "name": "#%% md\n"
    }
   }
  },
  {
   "cell_type": "code",
   "execution_count": null,
   "metadata": {
    "collapsed": true,
    "pycharm": {
     "name": "#%%\n"
    }
   },
   "outputs": [],
   "source": [
    "print(\"239\" < \"30\" and 239 < 30)\n",
    "print(\"239\" < \"30\" and 239 > 30) #true\n",
    "print(\"239\" > \"30\" and 239 < 30)\n",
    "print(\"239\" > \"30\" and 239 > 30)"
   ]
  },
  {
   "cell_type": "markdown",
   "source": [
    "#5\n",
    "Укажите результат выражения:\n",
    "\n",
    "\"123\" + \"42\"\n",
    "Попробуйте получить ответ без использования интерпретатора.\n",
    "\n",
    "Заметьте, что сложение строк производится одинаково и не зависит от того, какие данные содержит строка."
   ],
   "metadata": {
    "collapsed": false,
    "pycharm": {
     "name": "#%% md\n"
    }
   }
  },
  {
   "cell_type": "code",
   "execution_count": null,
   "outputs": [],
   "source": [
    "print(\"123\" + \"42\") #'12342'"
   ],
   "metadata": {
    "collapsed": false,
    "pycharm": {
     "name": "#%%\n"
    }
   }
  }
 ],
 "metadata": {
  "kernelspec": {
   "display_name": "Python 3",
   "language": "python",
   "name": "python3"
  },
  "language_info": {
   "codemirror_mode": {
    "name": "ipython",
    "version": 2
   },
   "file_extension": ".py",
   "mimetype": "text/x-python",
   "name": "python",
   "nbconvert_exporter": "python",
   "pygments_lexer": "ipython2",
   "version": "2.7.6"
  }
 },
 "nbformat": 4,
 "nbformat_minor": 0
}