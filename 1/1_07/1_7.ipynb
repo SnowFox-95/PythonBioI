{
 "cells": [
  {
   "cell_type": "markdown",
   "source": [
    "#2\n",
    "Составьте выражение для вычисления в интерпретаторе Python 3 и вставьте в поле ответа результат вычисления.\n",
    "Приведите к целому типу число 2.99"
   ],
   "metadata": {
    "collapsed": false,
    "pycharm": {
     "name": "#%% md\n"
    }
   }
  },
  {
   "cell_type": "code",
   "execution_count": 3,
   "outputs": [
    {
     "name": "stdout",
     "output_type": "stream",
     "text": [
      "2\n"
     ]
    }
   ],
   "source": [
    "print(int(2.99)) #2"
   ],
   "metadata": {
    "collapsed": false,
    "pycharm": {
     "name": "#%%\n"
    }
   }
  },
  {
   "cell_type": "markdown",
   "source": [
    "#3\n",
    "Составьте выражение для вычисления в интерпретаторе Python 3 и вставьте в поле ответа результат вычисления.\n",
    "\n",
    "Приведите к целому типу число -1.6\n",
    "\n",
    "Заметьте, что приведение к целому типу вещественного числа соответствует отбрасыванию дробной составляющей, что соответствует округлению в сторону 0."
   ],
   "metadata": {
    "collapsed": false,
    "pycharm": {
     "name": "#%% md\n"
    }
   }
  },
  {
   "cell_type": "code",
   "execution_count": 4,
   "outputs": [
    {
     "name": "stdout",
     "output_type": "stream",
     "text": [
      "-1\n"
     ]
    }
   ],
   "source": [
    "print(int(-1.6)) #-1"
   ],
   "metadata": {
    "collapsed": false,
    "pycharm": {
     "name": "#%%\n"
    }
   }
  },
  {
   "cell_type": "markdown",
   "source": [
    "\n",
    "#4\n",
    "Вычислите в python значение выражения\n",
    "\n",
    "9**19 - int(float(9**19))\n",
    "\n",
    "Заметьте, что используется одно и то же число, но результат получается не нулевой. Это показывает различие хранения большого числа в целочисленном типе и типе с плавающей точкой.\n"
   ],
   "metadata": {
    "collapsed": false,
    "pycharm": {
     "name": "#%% md\n"
    }
   }
  },
  {
   "cell_type": "code",
   "execution_count": 5,
   "outputs": [
    {
     "name": "stdout",
     "output_type": "stream",
     "text": [
      "89\n"
     ]
    }
   ],
   "source": [
    "print(9**19 - int(float(9**19))) #89"
   ],
   "metadata": {
    "collapsed": false,
    "pycharm": {
     "name": "#%%\n"
    }
   }
  }
 ],
 "metadata": {
  "kernelspec": {
   "display_name": "Python 3",
   "language": "python",
   "name": "python3"
  },
  "language_info": {
   "codemirror_mode": {
    "name": "ipython",
    "version": 2
   },
   "file_extension": ".py",
   "mimetype": "text/x-python",
   "name": "python",
   "nbconvert_exporter": "python",
   "pygments_lexer": "ipython2",
   "version": "2.7.6"
  }
 },
 "nbformat": 4,
 "nbformat_minor": 0
}